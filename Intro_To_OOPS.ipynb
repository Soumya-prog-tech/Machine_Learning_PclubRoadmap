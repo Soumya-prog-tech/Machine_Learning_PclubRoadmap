{
 "cells": [
  {
   "metadata": {},
   "cell_type": "raw",
   "source": "",
   "id": "c3a95c6e48bd97e9"
  },
  {
   "metadata": {},
   "cell_type": "markdown",
   "source": "Example 1",
   "id": "18f119d2772c9ae5"
  },
  {
   "cell_type": "code",
   "id": "initial_id",
   "metadata": {
    "collapsed": true,
    "ExecuteTime": {
     "end_time": "2025-02-21T17:58:38.608058Z",
     "start_time": "2025-02-21T17:58:38.602110Z"
    }
   },
   "source": [
    "from operator import truediv\n",
    "\n",
    "x = 1\n",
    "y = \"Hello\"\n",
    "def hello():\n",
    "    print(\"Hello\")\n",
    "print(type(x))\n",
    "print(type(y))\n",
    "print(type(hello))"
   ],
   "outputs": [
    {
     "name": "stdout",
     "output_type": "stream",
     "text": [
      "<class 'int'>\n",
      "<class 'str'>\n",
      "<class 'function'>\n"
     ]
    }
   ],
   "execution_count": 1
  },
  {
   "metadata": {},
   "cell_type": "markdown",
   "source": "Example 2",
   "id": "ccff59b6aed26e5a"
  },
  {
   "metadata": {
    "ExecuteTime": {
     "end_time": "2025-02-21T17:59:32.190727Z",
     "start_time": "2025-02-21T17:59:32.186343Z"
    }
   },
   "cell_type": "code",
   "source": [
    "class Dog:\n",
    "    def bark(self):\n",
    "        print(\"Bark\")\n",
    "\n",
    "d = Dog()\n",
    "print(type(d))"
   ],
   "id": "c2fdbc941abd1a45",
   "outputs": [
    {
     "name": "stdout",
     "output_type": "stream",
     "text": [
      "<class '__main__.Dog'>\n"
     ]
    }
   ],
   "execution_count": 2
  },
  {
   "metadata": {},
   "cell_type": "markdown",
   "source": "Example 3",
   "id": "dff58ca48ec9a8e6"
  },
  {
   "metadata": {
    "ExecuteTime": {
     "end_time": "2025-02-21T19:25:44.230740Z",
     "start_time": "2025-02-21T19:25:44.225285Z"
    }
   },
   "cell_type": "code",
   "source": [
    "class Dog2:\n",
    "    def __init__(self,name):\n",
    "        self.name = name\n",
    "        print(name)\n",
    "\n",
    "d = Dog2(\"John\")"
   ],
   "id": "323d235d5a954a4c",
   "outputs": [
    {
     "name": "stdout",
     "output_type": "stream",
     "text": [
      "John\n"
     ]
    }
   ],
   "execution_count": 3
  },
  {
   "metadata": {},
   "cell_type": "markdown",
   "source": "Example 4",
   "id": "f49d6804e79e4478"
  },
  {
   "metadata": {
    "ExecuteTime": {
     "end_time": "2025-02-21T19:46:16.651584Z",
     "start_time": "2025-02-21T19:46:16.644225Z"
    }
   },
   "cell_type": "code",
   "source": [
    "class Student:\n",
    "    def __init__(self,name,age,grade):\n",
    "        self.name = name\n",
    "        self.age = age\n",
    "        self.grade = grade\n",
    "\n",
    "    def get_grade(self):\n",
    "        return self.grade\n",
    "\n",
    "class Course:\n",
    "    def __init__(self,name,max_students):\n",
    "        self.name = name\n",
    "        self.max_students = max_students\n",
    "        self.students = []\n",
    "\n",
    "    def add_student(self, student):\n",
    "        if len(self.students) < self.max_students:\n",
    "            self.students.append(student)\n",
    "            return True\n",
    "        return False\n",
    "\n",
    "    def get_average_grade(self):\n",
    "        value = 0\n",
    "        for student in self.students:\n",
    "            value += student.get_grade()\n",
    "        return value/len(self.students)\n",
    "\n",
    "s1 = Student(\"Soumya\",18, 8.6)\n",
    "s2 = Student(\"Sai\",19, 4.6)\n",
    "s3 = Student(\"shreyas\",18,8.95)\n",
    "\n",
    "course = Course(\"MTH113\", 2)\n",
    "course.add_student(s1)\n",
    "course.add_student(s2)\n",
    "print(course.students)\n",
    "\n"
   ],
   "id": "b6690d2ef2885591",
   "outputs": [
    {
     "name": "stdout",
     "output_type": "stream",
     "text": [
      "[<__main__.Student object at 0x00000217AE775B80>, <__main__.Student object at 0x00000217AE7758B0>]\n"
     ]
    }
   ],
   "execution_count": 10
  },
  {
   "metadata": {
    "ExecuteTime": {
     "end_time": "2025-02-21T19:46:18.205215Z",
     "start_time": "2025-02-21T19:46:18.201215Z"
    }
   },
   "cell_type": "code",
   "source": "print(course.students[0].name)",
   "id": "818eb1a7704d8fed",
   "outputs": [
    {
     "name": "stdout",
     "output_type": "stream",
     "text": [
      "Soumya\n"
     ]
    }
   ],
   "execution_count": 11
  },
  {
   "metadata": {
    "ExecuteTime": {
     "end_time": "2025-02-21T19:46:22.258443Z",
     "start_time": "2025-02-21T19:46:22.253935Z"
    }
   },
   "cell_type": "code",
   "source": "print(course.get_average_grade())",
   "id": "1744917d57242056",
   "outputs": [
    {
     "name": "stdout",
     "output_type": "stream",
     "text": [
      "6.6\n"
     ]
    }
   ],
   "execution_count": 13
  },
  {
   "metadata": {},
   "cell_type": "markdown",
   "source": "### INHERITANCE",
   "id": "6f3e8062b27be4fa"
  },
  {
   "metadata": {},
   "cell_type": "code",
   "outputs": [],
   "execution_count": null,
   "source": [
    "# class Cat:\n",
    "#     def __init__(self, name, age):\n",
    "#         self.name = name\n",
    "#         self.age = age\n",
    "#\n",
    "#     def speak(self):\n",
    "#         print(\"Meow\")\n",
    "#\n",
    "# class Dog:\n",
    "#     def __init__(self, name , age):\n",
    "#         self.name = name\n",
    "#         self.age = age\n",
    "#\n",
    "#     def speak(self):\n",
    "#         print(\"Bark\")\n"
   ],
   "id": "750818c559a14578"
  },
  {
   "metadata": {},
   "cell_type": "markdown",
   "source": "There are repetitive lines in the code so there must be a method to shorten the code. That method is Inheritance which is shown below",
   "id": "d73f925fc1fd85b0"
  },
  {
   "metadata": {
    "ExecuteTime": {
     "end_time": "2025-02-21T19:56:15.896009Z",
     "start_time": "2025-02-21T19:56:15.884708Z"
    }
   },
   "cell_type": "code",
   "source": [
    "# class Pet:\n",
    "#     def __init__(self, name, age):\n",
    "#         self.name = name\n",
    "#         self.age = age\n",
    "#\n",
    "#     def show(self):\n",
    "#         print(f\"I am {self.name} and I am {self.age} years old\")\n",
    "#\n",
    "# class Cat(Pet):\n",
    "#     def speak(self):\n",
    "#         print(\"Meow\")\n",
    "#\n",
    "# class Dog(Pet):\n",
    "#     def speak(self):\n",
    "#         print(\"Bark\")\n",
    "#\n",
    "#\n",
    "# p = Pet(\"John\", 18)\n",
    "# p.show()\n",
    "# c = Cat(\"John\", 18)\n",
    "# c.speak()\n",
    "# d = Dog(\"John\", 18)\n",
    "# d.speak()"
   ],
   "id": "be40a62f31164e4d",
   "outputs": [
    {
     "name": "stdout",
     "output_type": "stream",
     "text": [
      "I am John and I am 18 years old\n",
      "Meow\n",
      "Bark\n"
     ]
    }
   ],
   "execution_count": 14
  },
  {
   "metadata": {},
   "cell_type": "markdown",
   "source": "A Complex Example ( Example 5 )",
   "id": "b33b6bdabd4642e5"
  },
  {
   "metadata": {
    "ExecuteTime": {
     "end_time": "2025-02-21T20:06:49.198628Z",
     "start_time": "2025-02-21T20:06:49.187775Z"
    }
   },
   "cell_type": "code",
   "source": [
    "class Pet:\n",
    "    def __init__(self, name, age):\n",
    "        self.name = name\n",
    "        self.age = age\n",
    "\n",
    "    def show(self):\n",
    "        print(f\"I am {self.name} and I am {self.age} years old\")\n",
    "\n",
    "class Cat(Pet):\n",
    "    def __init_(self, name, age, color):\n",
    "        super().__init__(name, age)\n",
    "        self.color = color\n",
    "    def speak(self):\n",
    "        print(\"Meow\")\n",
    "\n",
    "class Dog(Pet):\n",
    "    def speak(self):\n",
    "        print(\"Bark\")\n",
    "\n",
    "\n",
    "p = Pet(\"John\", 18)\n",
    "p.show()\n",
    "c = Cat(\"John\", 18)\n",
    "c.speak()\n",
    "d = Dog(\"John\", 18)\n",
    "d.speak()"
   ],
   "id": "1128ab4a7c5b7119",
   "outputs": [
    {
     "name": "stdout",
     "output_type": "stream",
     "text": [
      "I am John and I am 18 years old\n",
      "Meow\n",
      "Bark\n"
     ]
    }
   ],
   "execution_count": 15
  },
  {
   "metadata": {},
   "cell_type": "markdown",
   "source": "### CLASS ATTRIBUTES",
   "id": "9b1256c86f20f48a"
  },
  {
   "metadata": {},
   "cell_type": "markdown",
   "source": "Example 1",
   "id": "be3e0207befed9d6"
  },
  {
   "metadata": {
    "ExecuteTime": {
     "end_time": "2025-02-22T00:14:56.415084Z",
     "start_time": "2025-02-22T00:14:56.409835Z"
    }
   },
   "cell_type": "code",
   "source": [
    "class Person:\n",
    "    number_of_people = 0\n",
    "\n",
    "    def __init__(self, name):\n",
    "        self.name = name\n",
    "        Person.number_of_people +=1\n",
    "\n",
    "p1 = Person(\"John\")\n",
    "p2 = Person(\"Soumya\")\n",
    "print(Person.number_of_people)"
   ],
   "id": "2a1cc0b0ecaa3259",
   "outputs": [
    {
     "name": "stdout",
     "output_type": "stream",
     "text": [
      "2\n"
     ]
    }
   ],
   "execution_count": 22
  },
  {
   "metadata": {},
   "cell_type": "markdown",
   "source": "### CLASS METHODS",
   "id": "8cd3313ddf3a7332"
  },
  {
   "metadata": {
    "ExecuteTime": {
     "end_time": "2025-02-22T00:20:35.448105Z",
     "start_time": "2025-02-22T00:20:35.441861Z"
    }
   },
   "cell_type": "code",
   "source": [
    "class Person1:\n",
    "    number_of_people = 0\n",
    "\n",
    "    def __init__(self, name):\n",
    "        self.name = name\n",
    "        Person1.add_person()\n",
    "\n",
    "    @classmethod\n",
    "    def number_of_peoples(cls):\n",
    "        return cls.number_of_people\n",
    "\n",
    "    @classmethod\n",
    "    def add_person(cls):\n",
    "        cls.number_of_people +=1\n",
    "\n",
    "p1 = Person1(\"John\")\n",
    "p2 = Person1(\"Soumya\")\n",
    "print(Person1.number_of_peoples())"
   ],
   "id": "9ea05df926becc36",
   "outputs": [
    {
     "name": "stdout",
     "output_type": "stream",
     "text": [
      "2\n"
     ]
    }
   ],
   "execution_count": 25
  },
  {
   "metadata": {},
   "cell_type": "markdown",
   "source": "### STATIC METHODS",
   "id": "4def7071fd176bbd"
  },
  {
   "metadata": {
    "ExecuteTime": {
     "end_time": "2025-02-22T00:24:08.058771Z",
     "start_time": "2025-02-22T00:24:08.053859Z"
    }
   },
   "cell_type": "code",
   "source": [
    "class Math:\n",
    "    @staticmethod\n",
    "    def add5(x):\n",
    "        return x+5\n",
    "\n",
    "print(Math.add5(5))"
   ],
   "id": "618fbceeadef7722",
   "outputs": [
    {
     "name": "stdout",
     "output_type": "stream",
     "text": [
      "10\n"
     ]
    }
   ],
   "execution_count": 26
  },
  {
   "metadata": {},
   "cell_type": "code",
   "outputs": [],
   "execution_count": null,
   "source": "Ended",
   "id": "fe9fed7885722897"
  }
 ],
 "metadata": {
  "kernelspec": {
   "display_name": "Python 3",
   "language": "python",
   "name": "python3"
  },
  "language_info": {
   "codemirror_mode": {
    "name": "ipython",
    "version": 2
   },
   "file_extension": ".py",
   "mimetype": "text/x-python",
   "name": "python",
   "nbconvert_exporter": "python",
   "pygments_lexer": "ipython2",
   "version": "2.7.6"
  }
 },
 "nbformat": 4,
 "nbformat_minor": 5
}
